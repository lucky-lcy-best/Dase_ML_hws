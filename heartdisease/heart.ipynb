{
 "cells": [
  {
   "cell_type": "code",
   "execution_count": null,
   "metadata": {},
   "outputs": [],
   "source": [
    "import pandas as pd\n",
    "# 读取heart数据集\n",
    "df = pd.read_csv(\"./data/heart.csv\")\n",
    "df.head()"
   ]
  },
  {
   "cell_type": "code",
   "execution_count": null,
   "metadata": {},
   "outputs": [],
   "source": [
    "# 查看各特征值列中的缺失值信息\n",
    "df.isnull().sum()"
   ]
  },
  {
   "cell_type": "code",
   "execution_count": null,
   "metadata": {},
   "outputs": [],
   "source": [
    "# 缺失值处理*\n",
    "df = df.dropna()\n",
    "df.info()"
   ]
  },
  {
   "cell_type": "code",
   "execution_count": null,
   "metadata": {},
   "outputs": [],
   "source": [
    "# 将thal列 数据映射到 0, 1 , 2\n",
    "df.replace({\"thal\" : {3:0,6:1,7:2}},inplace=True)\n",
    "# 将target 映射为 0，1 二分类\n",
    "df.replace({\"target\" : {1:1,2:1,3:1,4:1}},inplace=True)"
   ]
  },
  {
   "cell_type": "code",
   "execution_count": null,
   "metadata": {},
   "outputs": [],
   "source": [
    "'''特征工程'''\n",
    "# 修改列名\n",
    "df.columns = ['age', 'sex', 'chest_pain_type', 'resting_blood_pressure', 'cholesterol', 'fasting_blood_sugar','rest_ecg','max_heart_rate',\n",
    "'exercise_induced_angina', 'st_depression', 'st_slope', 'num_major_vessels', 'thalassemia', 'target']\n",
    "df.head()"
   ]
  },
  {
   "cell_type": "code",
   "execution_count": null,
   "metadata": {},
   "outputs": [],
   "source": [
    "# 将定类特征由整数编码转为实际对应的字符串\n",
    "df['sex'][df['sex'] == 0] = 'female'\n",
    "df['sex'][df['sex'] == 1] = 'male'\n",
    "\n",
    "df['chest_pain_type'][df['chest_pain_type'] == 1] = 'typical_angina'\n",
    "df['chest_pain_type'][df['chest_pain_type'] == 2] = 'atypical_angina'\n",
    "df['chest_pain_type'][df['chest_pain_type'] == 3] = 'non-angina_pain'\n",
    "df['chest_pain_type'][df['chest_pain_type'] == 4] = 'asymptomic'\n",
    "\n",
    "df['fasting_blood_sugar'][df['fasting_blood_sugar'] == 0] = '<120mg/ml'\n",
    "df['fasting_blood_sugar'][df['fasting_blood_sugar'] == 1] = '>120mg/ml'\n",
    "\n",
    "df['rest_ecg'][df['rest_ecg'] == 0] = 'normal'\n",
    "df['rest_ecg'][df['rest_ecg'] == 1] = 'ST-T'\n",
    "df['rest_ecg'][df['rest_ecg'] == 2] = 'left_heart_big'\n",
    "\n",
    "df['exercise_induced_angina'][df['exercise_induced_angina'] == 0] = 'no'\n",
    "df['exercise_induced_angina'][df['exercise_induced_angina'] == 1] = 'yes'\n",
    "\n",
    "df['st_slope'][df['st_slope'] == 1] = 'up'\n",
    "df['st_slope'][df['st_slope'] == 2] = 'normal'\n",
    "df['st_slope'][df['st_slope'] == 3] = 'down'\n",
    "\n",
    "df['thalassemia'][df['thalassemia'] == 0] = 'normal'\n",
    "df['thalassemia'][df['thalassemia'] == 1] = 'fixed'\n",
    "df['thalassemia'][df['thalassemia'] == 2] = 'reversable'\n",
    "\n",
    "df.head()"
   ]
  },
  {
   "cell_type": "code",
   "execution_count": null,
   "metadata": {},
   "outputs": [],
   "source": [
    "'''将离散的定类和定序特征序列转为One-Hot编码'''\n",
    "df = pd.get_dummies(df)\n",
    "df.head()"
   ]
  },
  {
   "cell_type": "code",
   "execution_count": null,
   "metadata": {},
   "outputs": [],
   "source": [
    "'''划分训练集和测试集'''\n",
    "y = df.target\n",
    "X = df.drop(['target'], axis=1)\n",
    "\n",
    "import sklearn\n",
    "from sklearn.model_selection import train_test_split\n",
    "X_train, X_test, y_train, y_test = train_test_split(X,y, test_size=0.2, random_state=10)"
   ]
  },
  {
   "cell_type": "code",
   "execution_count": null,
   "metadata": {},
   "outputs": [],
   "source": [
    "from sklearn.ensemble import RandomForestClassifier\n",
    "model = RandomForestClassifier(max_depth=5 , n_estimators=100, random_state=5)\n",
    "model.fit(X_train, y_train)"
   ]
  },
  {
   "cell_type": "code",
   "execution_count": null,
   "metadata": {},
   "outputs": [],
   "source": [
    "model.score(X_train, y_train)"
   ]
  },
  {
   "cell_type": "code",
   "execution_count": null,
   "metadata": {},
   "outputs": [],
   "source": [
    "from sklearn.metrics import accuracy_score,precision_score,recall_score,f1_score\n",
    "y_pred = model.predict(X_test)\n",
    "# 准确率\n",
    "print(\"准确率：\" + str(accuracy_score(y_test, y_pred)))\n",
    "# 精确率\n",
    "print(\"精确率：\" + str(precision_score(y_test, y_pred)))\n",
    "# # 召回率\n",
    "print(\"召回率：\" + str(recall_score(y_test, y_pred)))\n",
    "# # F1值\n",
    "print(\"F1值： \" + str(f1_score(y_test, y_pred)))"
   ]
  },
  {
   "cell_type": "code",
   "execution_count": null,
   "metadata": {},
   "outputs": [],
   "source": [
    "import matplotlib.pyplot as plt\n",
    "from sklearn.metrics import roc_curve, auc\n",
    "# y_test：实际的标签, dataset_pred：预测的概率值。\n",
    "fpr, tpr, thresholds = roc_curve(y_test, y_pred)\n",
    "roc_auc = auc(fpr, tpr) \n",
    "#画图，只需要plt.plot(fpr,tpr),变量roc_auc只是记录auc的值，通过auc()函数能计算出来 \n",
    "plt.plot(fpr, tpr, lw=1, label='ROC(area = %0.2f)' % (roc_auc))\n",
    "plt.xlabel(\"FPR (False Positive Rate)\")\n",
    "plt.ylabel(\"TPR (True Positive Rate)\")\n",
    "plt.title(\"Receiver Operating Characteristic, ROC(AUC = %0.2f)\"% (roc_auc))\n",
    "plt.show()"
   ]
  }
 ],
 "metadata": {
  "kernelspec": {
   "display_name": "Python 3.10.6 64-bit",
   "language": "python",
   "name": "python3"
  },
  "language_info": {
   "codemirror_mode": {
    "name": "ipython",
    "version": 3
   },
   "file_extension": ".py",
   "mimetype": "text/x-python",
   "name": "python",
   "nbconvert_exporter": "python",
   "pygments_lexer": "ipython3",
   "version": "3.10.6"
  },
  "orig_nbformat": 4,
  "vscode": {
   "interpreter": {
    "hash": "e7370f93d1d0cde622a1f8e1c04877d8463912d04d973331ad4851f04de6915a"
   }
  }
 },
 "nbformat": 4,
 "nbformat_minor": 2
}
