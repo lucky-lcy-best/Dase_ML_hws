{
 "cells": [
  {
   "cell_type": "code",
   "execution_count": null,
   "metadata": {
    "collapsed": false
   },
   "outputs": [],
   "source": [
    "def get_data(x, y):\n",
    "    file_path='./faces_4' #设置文件路径（这里为当前目录下的ORL文件夹）\n",
    "    targets = os.listdir(file_path)\n",
    "    train_set = np.zeros(shape=[1,960])  #train_set用于获取的数据集\n",
    "    train_set = pd.DataFrame(train_set)     #将train_set转换成DataFrame类型\n",
    "    target=[]  \n",
    "    i = 0\n",
    "    end = y\n",
    "    for each in targets:\n",
    "        cur_path = file_path + '/' + each + '/'\n",
    "        i = i + 1\n",
    "        img_names = os.listdir(cur_path)\n",
    "        if y == 32 :\n",
    "            end = len(img_names)\n",
    "        for j in range(x, end):                # 分割图片\n",
    "            target.append(i)    \n",
    "            img_name = img_names[j]            # 图片名\n",
    "            img = cv2.imread(cur_path + img_name, cv2.IMREAD_GRAYSCALE) #读取图片，第二个参数表示以灰度图像读入\n",
    "            img = img.reshape(1,img.shape[0]*img.shape[1]) #将读入的图片数据转换成一维\n",
    "            img = pd.DataFrame(img)           #将一维的图片数据转成DataFrame类型\n",
    "            train_set = pd.concat([train_set,img],axis=0)#按行拼接DataFrame矩阵\n",
    "    train_set.index = list(range(0,train_set.shape[0])) #设置 train_set的行索引\n",
    "    train_set.drop(labels=0,axis=0,inplace=True) #删除初始化为0的行\n",
    "    target = pd.DataFrame(target)             #将标签列表转成DataFrame类型\n",
    "    return train_set,target  "
   ]
  },
  {
   "cell_type": "code",
   "execution_count": null,
   "metadata": {},
   "outputs": [],
   "source": [
    "'''读取数据集并划分训练集和测试集'''\n",
    "x_train, y_train = get_data(0, 24) # 取前23张为训练集\n",
    "x_test, y_test = get_data(24, 32)  # 取后几张为测试集\n",
    "\n",
    "x_train.head()"
   ]
  },
  {
   "cell_type": "code",
   "execution_count": null,
   "metadata": {},
   "outputs": [],
   "source": [
    "'''数据标准化 标准差标准化'''\n",
    "stdScaler = StandardScaler().fit(x_train) \n",
    "x_train = stdScaler.transform(x_train)\n",
    "x_test = stdScaler.transform(x_test)"
   ]
  },
  {
   "cell_type": "code",
   "execution_count": null,
   "metadata": {},
   "outputs": [],
   "source": [
    "'''PCA降维'''\n",
    "pca = PCA(n_components=20).fit(x_train) \n",
    "x_train = pca.transform(x_train) \n",
    "x_test = pca.transform(x_test)"
   ]
  },
  {
   "cell_type": "code",
   "execution_count": null,
   "metadata": {},
   "outputs": [],
   "source": [
    "'''建立SVM模型  默认为径向基核函数kernel='rbf' 多项式核函数kernel='poly' '''\n",
    "svm = SVC(kernel='poly').fit(x_train, y_train)\n",
    "svm.score(x_test, y_test)"
   ]
  },
  {
   "cell_type": "code",
   "execution_count": null,
   "metadata": {},
   "outputs": [],
   "source": [
    "from sklearn.metrics import accuracy_score,precision_score,recall_score,f1_score\n",
    "y_pred = svm.predict(x_test)\n",
    "# 准确率\n",
    "print(\"准确率：\" + str(accuracy_score(y_test, y_pred)))"
   ]
  },
  {
   "cell_type": "code",
   "execution_count": null,
   "outputs": [],
   "source": [
    "y_pred"
   ],
   "metadata": {
    "collapsed": false
   }
  }
 ],
 "metadata": {
  "kernelspec": {
   "display_name": "Python 3.10.6 64-bit",
   "language": "python",
   "name": "python3"
  },
  "language_info": {
   "codemirror_mode": {
    "name": "ipython",
    "version": 3
   },
   "file_extension": ".py",
   "mimetype": "text/x-python",
   "name": "python",
   "nbconvert_exporter": "python",
   "pygments_lexer": "ipython3",
   "version": "3.10.6"
  },
  "orig_nbformat": 4,
  "vscode": {
   "interpreter": {
    "hash": "e7370f93d1d0cde622a1f8e1c04877d8463912d04d973331ad4851f04de6915a"
   }
  }
 },
 "nbformat": 4,
 "nbformat_minor": 2
}
