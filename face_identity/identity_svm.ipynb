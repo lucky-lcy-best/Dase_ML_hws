{
 "cells": [
  {
   "cell_type": "code",
   "execution_count": 11,
   "metadata": {},
   "outputs": [],
   "source": [
    "import cv2 #opencv库，用于读取图片等操作\n",
    "import os\n",
    "import numpy as np \n",
    "import pandas as pd  \n",
    "from sklearn.preprocessing import StandardScaler #标准差标准化\n",
    "from sklearn.svm import SVC                      #svm包中SVC用于分类\n",
    "from sklearn.decomposition import PCA    "
   ]
  },
  {
   "cell_type": "code",
   "execution_count": 12,
   "metadata": {
    "collapsed": false
   },
   "outputs": [],
   "source": [
    "def get_data(x, y):\n",
    "    file_path='./faces_4' #设置文件路径（这里为当前目录下的ORL文件夹）\n",
    "    targets = os.listdir(file_path)\n",
    "    train_set = np.zeros(shape=[1,960])  #train_set用于获取的数据集\n",
    "    train_set = pd.DataFrame(train_set)     #将train_set转换成DataFrame类型\n",
    "    target=[]  \n",
    "    i = 0\n",
    "    end = y\n",
    "    for each in targets:\n",
    "        cur_path = file_path + '/' + each + '/'\n",
    "        i = i + 1\n",
    "        img_names = os.listdir(cur_path)\n",
    "        if y == 32 :\n",
    "            end = len(img_names)\n",
    "        for j in range(x, end):                # 分割图片\n",
    "            target.append(i)    \n",
    "            img_name = img_names[j]            # 图片名\n",
    "            img = cv2.imread(cur_path + img_name, cv2.IMREAD_GRAYSCALE) #读取图片，第二个参数表示以灰度图像读入\n",
    "            img = img.reshape(1,img.shape[0]*img.shape[1]) #将读入的图片数据转换成一维\n",
    "            img = pd.DataFrame(img)           #将一维的图片数据转成DataFrame类型\n",
    "            train_set = pd.concat([train_set,img],axis=0)#按行拼接DataFrame矩阵\n",
    "    train_set.index = list(range(0,train_set.shape[0])) #设置 train_set的行索引\n",
    "    train_set.drop(labels=0,axis=0,inplace=True) #删除初始化为0的行\n",
    "    target = pd.DataFrame(target)             #将标签列表转成DataFrame类型\n",
    "    return train_set,target  "
   ]
  },
  {
   "cell_type": "code",
   "execution_count": 13,
   "metadata": {},
   "outputs": [
    {
     "data": {
      "text/html": [
       "<div>\n",
       "<style scoped>\n",
       "    .dataframe tbody tr th:only-of-type {\n",
       "        vertical-align: middle;\n",
       "    }\n",
       "\n",
       "    .dataframe tbody tr th {\n",
       "        vertical-align: top;\n",
       "    }\n",
       "\n",
       "    .dataframe thead th {\n",
       "        text-align: right;\n",
       "    }\n",
       "</style>\n",
       "<table border=\"1\" class=\"dataframe\">\n",
       "  <thead>\n",
       "    <tr style=\"text-align: right;\">\n",
       "      <th></th>\n",
       "      <th>0</th>\n",
       "      <th>1</th>\n",
       "      <th>2</th>\n",
       "      <th>3</th>\n",
       "      <th>4</th>\n",
       "      <th>5</th>\n",
       "      <th>6</th>\n",
       "      <th>7</th>\n",
       "      <th>8</th>\n",
       "      <th>9</th>\n",
       "      <th>...</th>\n",
       "      <th>950</th>\n",
       "      <th>951</th>\n",
       "      <th>952</th>\n",
       "      <th>953</th>\n",
       "      <th>954</th>\n",
       "      <th>955</th>\n",
       "      <th>956</th>\n",
       "      <th>957</th>\n",
       "      <th>958</th>\n",
       "      <th>959</th>\n",
       "    </tr>\n",
       "  </thead>\n",
       "  <tbody>\n",
       "    <tr>\n",
       "      <th>1</th>\n",
       "      <td>9.0</td>\n",
       "      <td>34.0</td>\n",
       "      <td>20.0</td>\n",
       "      <td>17.0</td>\n",
       "      <td>56.0</td>\n",
       "      <td>41.0</td>\n",
       "      <td>50.0</td>\n",
       "      <td>49.0</td>\n",
       "      <td>45.0</td>\n",
       "      <td>43.0</td>\n",
       "      <td>...</td>\n",
       "      <td>106.0</td>\n",
       "      <td>108.0</td>\n",
       "      <td>76.0</td>\n",
       "      <td>99.0</td>\n",
       "      <td>119.0</td>\n",
       "      <td>73.0</td>\n",
       "      <td>93.0</td>\n",
       "      <td>63.0</td>\n",
       "      <td>23.0</td>\n",
       "      <td>3.0</td>\n",
       "    </tr>\n",
       "    <tr>\n",
       "      <th>2</th>\n",
       "      <td>8.0</td>\n",
       "      <td>33.0</td>\n",
       "      <td>20.0</td>\n",
       "      <td>16.0</td>\n",
       "      <td>55.0</td>\n",
       "      <td>40.0</td>\n",
       "      <td>49.0</td>\n",
       "      <td>48.0</td>\n",
       "      <td>44.0</td>\n",
       "      <td>42.0</td>\n",
       "      <td>...</td>\n",
       "      <td>98.0</td>\n",
       "      <td>81.0</td>\n",
       "      <td>86.0</td>\n",
       "      <td>119.0</td>\n",
       "      <td>94.0</td>\n",
       "      <td>75.0</td>\n",
       "      <td>73.0</td>\n",
       "      <td>54.0</td>\n",
       "      <td>13.0</td>\n",
       "      <td>2.0</td>\n",
       "    </tr>\n",
       "    <tr>\n",
       "      <th>3</th>\n",
       "      <td>8.0</td>\n",
       "      <td>31.0</td>\n",
       "      <td>19.0</td>\n",
       "      <td>15.0</td>\n",
       "      <td>51.0</td>\n",
       "      <td>38.0</td>\n",
       "      <td>46.0</td>\n",
       "      <td>45.0</td>\n",
       "      <td>42.0</td>\n",
       "      <td>40.0</td>\n",
       "      <td>...</td>\n",
       "      <td>44.0</td>\n",
       "      <td>72.0</td>\n",
       "      <td>92.0</td>\n",
       "      <td>63.0</td>\n",
       "      <td>81.0</td>\n",
       "      <td>106.0</td>\n",
       "      <td>56.0</td>\n",
       "      <td>58.0</td>\n",
       "      <td>17.0</td>\n",
       "      <td>1.0</td>\n",
       "    </tr>\n",
       "    <tr>\n",
       "      <th>4</th>\n",
       "      <td>9.0</td>\n",
       "      <td>34.0</td>\n",
       "      <td>20.0</td>\n",
       "      <td>16.0</td>\n",
       "      <td>55.0</td>\n",
       "      <td>40.0</td>\n",
       "      <td>49.0</td>\n",
       "      <td>48.0</td>\n",
       "      <td>45.0</td>\n",
       "      <td>43.0</td>\n",
       "      <td>...</td>\n",
       "      <td>19.0</td>\n",
       "      <td>47.0</td>\n",
       "      <td>79.0</td>\n",
       "      <td>77.0</td>\n",
       "      <td>86.0</td>\n",
       "      <td>100.0</td>\n",
       "      <td>82.0</td>\n",
       "      <td>62.0</td>\n",
       "      <td>76.0</td>\n",
       "      <td>56.0</td>\n",
       "    </tr>\n",
       "    <tr>\n",
       "      <th>5</th>\n",
       "      <td>45.0</td>\n",
       "      <td>19.0</td>\n",
       "      <td>25.0</td>\n",
       "      <td>58.0</td>\n",
       "      <td>45.0</td>\n",
       "      <td>52.0</td>\n",
       "      <td>45.0</td>\n",
       "      <td>44.0</td>\n",
       "      <td>42.0</td>\n",
       "      <td>40.0</td>\n",
       "      <td>...</td>\n",
       "      <td>99.0</td>\n",
       "      <td>69.0</td>\n",
       "      <td>94.0</td>\n",
       "      <td>69.0</td>\n",
       "      <td>56.0</td>\n",
       "      <td>59.0</td>\n",
       "      <td>22.0</td>\n",
       "      <td>9.0</td>\n",
       "      <td>1.0</td>\n",
       "      <td>0.0</td>\n",
       "    </tr>\n",
       "  </tbody>\n",
       "</table>\n",
       "<p>5 rows × 960 columns</p>\n",
       "</div>"
      ],
      "text/plain": [
       "    0     1     2     3     4     5     6     7     8     9    ...    950  \\\n",
       "1   9.0  34.0  20.0  17.0  56.0  41.0  50.0  49.0  45.0  43.0  ...  106.0   \n",
       "2   8.0  33.0  20.0  16.0  55.0  40.0  49.0  48.0  44.0  42.0  ...   98.0   \n",
       "3   8.0  31.0  19.0  15.0  51.0  38.0  46.0  45.0  42.0  40.0  ...   44.0   \n",
       "4   9.0  34.0  20.0  16.0  55.0  40.0  49.0  48.0  45.0  43.0  ...   19.0   \n",
       "5  45.0  19.0  25.0  58.0  45.0  52.0  45.0  44.0  42.0  40.0  ...   99.0   \n",
       "\n",
       "     951   952    953    954    955   956   957   958   959  \n",
       "1  108.0  76.0   99.0  119.0   73.0  93.0  63.0  23.0   3.0  \n",
       "2   81.0  86.0  119.0   94.0   75.0  73.0  54.0  13.0   2.0  \n",
       "3   72.0  92.0   63.0   81.0  106.0  56.0  58.0  17.0   1.0  \n",
       "4   47.0  79.0   77.0   86.0  100.0  82.0  62.0  76.0  56.0  \n",
       "5   69.0  94.0   69.0   56.0   59.0  22.0   9.0   1.0   0.0  \n",
       "\n",
       "[5 rows x 960 columns]"
      ]
     },
     "execution_count": 13,
     "metadata": {},
     "output_type": "execute_result"
    }
   ],
   "source": [
    "'''读取数据集并划分训练集和测试集'''\n",
    "x_train, y_train = get_data(0, 24) # 取前23张为训练集\n",
    "x_test, y_test = get_data(24, 32)  # 取后几张为测试集\n",
    "\n",
    "x_train.head()"
   ]
  },
  {
   "cell_type": "code",
   "execution_count": 16,
   "metadata": {},
   "outputs": [
    {
     "data": {
      "text/plain": [
       "array([[-1.31812529,  0.22018458, -1.50058831, ...,  0.41484541,\n",
       "        -0.23778072, -0.66339101],\n",
       "       [-1.38643669,  0.14320818, -1.50058831, ...,  0.19980675,\n",
       "        -0.65708545, -0.72155132],\n",
       "       [-1.38643669, -0.01074462, -1.61092569, ...,  0.29537949,\n",
       "        -0.48936356, -0.77971162],\n",
       "       [-1.31812529,  0.22018458, -1.50058831, ...,  0.39095222,\n",
       "         1.98453432,  2.4191053 ],\n",
       "       [ 1.14108493, -0.93446145, -0.94890143, ..., -0.87538653,\n",
       "        -1.16025112, -0.83787193]])"
      ]
     },
     "execution_count": 16,
     "metadata": {},
     "output_type": "execute_result"
    }
   ],
   "source": [
    "'''数据标准化 标准差标准化'''\n",
    "stdScaler = StandardScaler().fit(x_train) \n",
    "x_train = stdScaler.transform(x_train)\n",
    "x_test = stdScaler.transform(x_test)\n",
    "\n",
    "x_train[0:5]"
   ]
  },
  {
   "cell_type": "code",
   "execution_count": null,
   "metadata": {},
   "outputs": [],
   "source": [
    "'''PCA降维'''\n",
    "pca = PCA(n_components=20).fit(x_train) \n",
    "x_train = pca.transform(x_train) \n",
    "x_test = pca.transform(x_test)\n",
    "\n",
    "x_train[0:5]"
   ]
  },
  {
   "cell_type": "code",
   "execution_count": null,
   "metadata": {},
   "outputs": [
    {
     "name": "stderr",
     "output_type": "stream",
     "text": [
      "/usr/local/lib/python3.10/dist-packages/sklearn/utils/validation.py:1111: DataConversionWarning: A column-vector y was passed when a 1d array was expected. Please change the shape of y to (n_samples, ), for example using ravel().\n",
      "  y = column_or_1d(y, warn=True)\n"
     ]
    },
    {
     "data": {
      "text/plain": [
       "0.9791666666666666"
      ]
     },
     "execution_count": 6,
     "metadata": {},
     "output_type": "execute_result"
    }
   ],
   "source": [
    "'''建立SVM模型  默认为径向基核函数kernel='rbf' 多项式核函数kernel='poly' '''\n",
    "svm = SVC(kernel='poly').fit(x_train, y_train)\n",
    "svm.score(x_test, y_test)"
   ]
  },
  {
   "cell_type": "code",
   "execution_count": null,
   "metadata": {},
   "outputs": [
    {
     "name": "stdout",
     "output_type": "stream",
     "text": [
      "准确率：0.9791666666666666\n"
     ]
    }
   ],
   "source": [
    "from sklearn.metrics import accuracy_score,precision_score,recall_score,f1_score\n",
    "y_pred = svm.predict(x_test)\n",
    "# 准确率\n",
    "print(\"准确率：\" + str(accuracy_score(y_test, y_pred)))"
   ]
  },
  {
   "cell_type": "code",
   "execution_count": null,
   "metadata": {
    "collapsed": false
   },
   "outputs": [
    {
     "data": {
      "text/plain": [
       "array([ 1,  1,  1,  1, 12,  1,  1,  1,  2,  2,  2,  2,  2,  2,  2,  2,  3,\n",
       "        3,  3,  3,  3,  3,  3,  3,  4,  4,  4,  4,  4,  4,  4,  5,  5,  5,\n",
       "        5,  5,  5,  5,  6,  6,  6,  6,  6,  6,  6,  7,  7,  7,  7,  7,  7,\n",
       "        8,  8,  8,  8,  8,  8,  8,  8,  9,  9,  9,  9,  9,  9, 10, 10, 10,\n",
       "       10, 10, 10, 10, 11, 11, 11, 11, 11, 11, 11, 11, 12, 12, 12, 12, 13,\n",
       "       13, 13, 13, 13, 13, 13, 13,  8,  8, 14, 14, 14, 14, 14, 14, 15, 15,\n",
       "       15, 15, 15, 15, 15, 15, 16, 16, 16, 16, 16, 16, 17, 17, 17, 17, 17,\n",
       "       17, 17, 18, 18, 18, 18, 18, 18, 18, 18, 19, 19, 19, 19, 19, 19, 19,\n",
       "       20, 20, 20, 20, 20, 20, 20, 20])"
      ]
     },
     "execution_count": 8,
     "metadata": {},
     "output_type": "execute_result"
    }
   ],
   "source": [
    "y_pred"
   ]
  }
 ],
 "metadata": {
  "kernelspec": {
   "display_name": "Python 3.10.6 64-bit",
   "language": "python",
   "name": "python3"
  },
  "language_info": {
   "codemirror_mode": {
    "name": "ipython",
    "version": 3
   },
   "file_extension": ".py",
   "mimetype": "text/x-python",
   "name": "python",
   "nbconvert_exporter": "python",
   "pygments_lexer": "ipython3",
   "version": "3.10.6"
  },
  "orig_nbformat": 4,
  "vscode": {
   "interpreter": {
    "hash": "e7370f93d1d0cde622a1f8e1c04877d8463912d04d973331ad4851f04de6915a"
   }
  }
 },
 "nbformat": 4,
 "nbformat_minor": 2
}
