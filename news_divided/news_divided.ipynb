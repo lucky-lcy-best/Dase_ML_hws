{
 "cells": [
  {
   "cell_type": "code",
   "execution_count": null,
   "metadata": {},
   "outputs": [],
   "source": [
    "import os\n",
    "\n",
    "# 读取新闻数据集目录\n",
    "news_dir = './20_newsgroups'\n",
    "# news_group下有20个目录，即20种新闻种类，作为标签target\n",
    "targets = os.listdir(news_dir)\n",
    "\n",
    "# 查看标签\n",
    "targets\n"
   ]
  },
  {
   "cell_type": "code",
   "execution_count": null,
   "metadata": {},
   "outputs": [],
   "source": [
    "\n",
    "import re\n",
    "\n",
    "# 标签组\n",
    "news_labels = []\n",
    "\n",
    "# 新闻内容\n",
    "news_contents = []\n",
    "\n",
    "# 标签量化 \n",
    "i = 0\n",
    "# 遍历每一个种类的新闻\n",
    "for target in targets:\n",
    "        # 确定每一个种类新闻的directory\n",
    "        i = i + 1\n",
    "        cur_target_dir = './20_newsgroups/' + target + '/'\n",
    "        for news_name in os.listdir(cur_target_dir):\n",
    "                news_path = cur_target_dir + news_name\n",
    "                # 读取新闻的全部内容\n",
    "                content_all = open(news_path, encoding='latin1').read().strip()\n",
    "                # 文本处理 分词 标点 空格等处理 \n",
    "                 # 正则表达式，不匹配字母、数字，将其他字符替换成空格，完成分词\n",
    "                tmp = re.sub(re.compile(r'[^A-Za-z0-9\\s]'),' ',content_all)\n",
    "                # 去除空字符串，即多个连续空格或者制表符\\t或者换行符号\\n\n",
    "                content_needed = re.sub(re.compile(r'\\s{2,}|[^\\S ]'),'',tmp) \n",
    "                # 标签映射\n",
    "                news_labels.append(i)\n",
    "                news_contents.append(content_needed)\n",
    "\n",
    "print(news_contents[0])"
   ]
  },
  {
   "cell_type": "code",
   "execution_count": null,
   "metadata": {},
   "outputs": [],
   "source": [
    "from sklearn.model_selection import train_test_split\n",
    "\n",
    "# 划分测试集和训练集 测试集 0.25\n",
    "x_train, x_test, y_train, y_test = \\\n",
    "    train_test_split(news_contents, news_labels, test_size=0.25)\n"
   ]
  },
  {
   "cell_type": "code",
   "execution_count": null,
   "metadata": {},
   "outputs": [],
   "source": [
    "''' 特征工程 '''\n",
    "# Tfidf\n",
    "from sklearn.feature_extraction.text import TfidfVectorizer\n",
    "\n",
    "tf = TfidfVectorizer() #实例化\n",
    "x_train = tf.fit_transform(x_train) #将训练集中的新闻文本数据进行特征抽取,返回一个sparse矩阵\n",
    "x_test = tf.transform(x_test) #将测试集中的新闻文本数据进行特征抽取，返回一个sparse矩阵\n",
    "x_test"
   ]
  },
  {
   "cell_type": "code",
   "execution_count": null,
   "metadata": {},
   "outputs": [],
   "source": [
    "''' 使用朴素贝叶斯分类器进行分类 同时进行五重交叉验证'''\n",
    "from sklearn.naive_bayes import MultinomialNB\n",
    "from sklearn.model_selection import train_test_split, GridSearchCV\n",
    "\n",
    "param = {\"alpha\" : [1.0]}\n",
    "# 进行网格搜索  cv = 5 表示五重交叉验证\n",
    "gc = GridSearchCV(bayes, param, cv=5)\n",
    "gc.fit(x_train, y_train)\n",
    "\n",
    "# 预测准确率\n",
    "print(\"在测试集上准确率：\", gc.score(x_test, y_test))\n",
    "\n",
    "print(\"在交叉验证当中最好的结果：\", gc.best_score_)\n"
   ]
  }
 ],
 "metadata": {
  "kernelspec": {
   "display_name": "Python 3.10.6 64-bit",
   "language": "python",
   "name": "python3"
  },
  "language_info": {
   "codemirror_mode": {
    "name": "ipython",
    "version": 3
   },
   "file_extension": ".py",
   "mimetype": "text/x-python",
   "name": "python",
   "nbconvert_exporter": "python",
   "pygments_lexer": "ipython3",
   "version": "3.10.6"
  },
  "orig_nbformat": 4,
  "vscode": {
   "interpreter": {
    "hash": "916dbcbb3f70747c44a77c7bcd40155683ae19c65e1c03b4aa3499c5328201f1"
   }
  }
 },
 "nbformat": 4,
 "nbformat_minor": 2
}
